{
  "nbformat": 4,
  "nbformat_minor": 0,
  "metadata": {
    "colab": {
      "provenance": [],
      "gpuType": "T4",
      "authorship_tag": "ABX9TyMnAIbR8LFKdJpna66kzEUq",
      "include_colab_link": true
    },
    "kernelspec": {
      "name": "python3",
      "display_name": "Python 3"
    },
    "language_info": {
      "name": "python"
    },
    "accelerator": "GPU"
  },
  "cells": [
    {
      "cell_type": "markdown",
      "metadata": {
        "id": "view-in-github",
        "colab_type": "text"
      },
      "source": [
        "<a href=\"https://colab.research.google.com/github/rustam19850117/Mangal/blob/Rustam/birinchi_nb.ipynb\" target=\"_parent\"><img src=\"https://colab.research.google.com/assets/colab-badge.svg\" alt=\"Open In Colab\"/></a>"
      ]
    },
    {
      "cell_type": "code",
      "execution_count": null,
      "metadata": {
        "colab": {
          "base_uri": "https://localhost:8080/"
        },
        "id": "Nl9VRabkEohI",
        "outputId": "38823aae-f276-4a92-b540-ded22a5bd64f"
      },
      "outputs": [
        {
          "output_type": "stream",
          "name": "stdout",
          "text": [
            "Salom Mohirdev\n"
          ]
        }
      ],
      "source": [
        "print('Salom Mohirdev')"
      ]
    },
    {
      "cell_type": "code",
      "source": [],
      "metadata": {
        "id": "6SdXLOEKE2im"
      },
      "execution_count": null,
      "outputs": []
    },
    {
      "cell_type": "markdown",
      "source": [
        "# Heding\n",
        "\n",
        "\n",
        "*   [Kirish](https://mohirdev.uz)\n",
        "*   Muqqadima\n",
        "\n",
        "\n",
        "\n"
      ],
      "metadata": {
        "id": "zYOFEqcRG6KY"
      }
    },
    {
      "cell_type": "code",
      "source": [
        "import numpy as np\n",
        "import pandas as pd\n",
        "import sklearn\n",
        "import matplotlib.pyplot as plt\n",
        "import seaborn as sns\n",
        "import torch\n",
        "import tensorflow as tf\n",
        "import keras\n"
      ],
      "metadata": {
        "id": "DgGAcK2DrFQC"
      },
      "execution_count": null,
      "outputs": []
    },
    {
      "cell_type": "code",
      "source": [
        "tf.__version__"
      ],
      "metadata": {
        "colab": {
          "base_uri": "https://localhost:8080/",
          "height": 35
        },
        "id": "4Z8ru3_bsvuM",
        "outputId": "bd9e8a6e-8582-4fbc-f122-f443a58a7925"
      },
      "execution_count": null,
      "outputs": [
        {
          "output_type": "execute_result",
          "data": {
            "text/plain": [
              "'2.15.0'"
            ],
            "application/vnd.google.colaboratory.intrinsic+json": {
              "type": "string"
            }
          },
          "metadata": {},
          "execution_count": 5
        }
      ]
    },
    {
      "cell_type": "code",
      "source": [
        "torch.__version__"
      ],
      "metadata": {
        "colab": {
          "base_uri": "https://localhost:8080/",
          "height": 35
        },
        "id": "PIwWWR7Qs4tk",
        "outputId": "0fdf9542-4773-4e10-c585-00405d98f18c"
      },
      "execution_count": null,
      "outputs": [
        {
          "output_type": "execute_result",
          "data": {
            "text/plain": [
              "'2.3.0+cu121'"
            ],
            "application/vnd.google.colaboratory.intrinsic+json": {
              "type": "string"
            }
          },
          "metadata": {},
          "execution_count": 6
        }
      ]
    },
    {
      "cell_type": "code",
      "source": [
        "import torch\n",
        "torch.cuda.is_available()\n"
      ],
      "metadata": {
        "colab": {
          "base_uri": "https://localhost:8080/"
        },
        "id": "KSYTUB-RuvYP",
        "outputId": "f928b6e9-0bde-44b1-8d8e-ac8995570f0a"
      },
      "execution_count": null,
      "outputs": [
        {
          "output_type": "execute_result",
          "data": {
            "text/plain": [
              "True"
            ]
          },
          "metadata": {},
          "execution_count": 1
        }
      ]
    },
    {
      "cell_type": "code",
      "source": [
        "! ls"
      ],
      "metadata": {
        "colab": {
          "base_uri": "https://localhost:8080/"
        },
        "id": "BibO3sQZvCqI",
        "outputId": "23d5cdd0-7aa8-4035-f3bc-b4657ba037a1"
      },
      "execution_count": null,
      "outputs": [
        {
          "output_type": "stream",
          "name": "stdout",
          "text": [
            "sample_data\n"
          ]
        }
      ]
    },
    {
      "cell_type": "code",
      "source": [
        "import pandas as pd\n",
        "files = pd.read_excel('./data/Общий план на 1-й месяц IELTS.xlsx')\n",
        "\n",
        "files.head()"
      ],
      "metadata": {
        "id": "EPoVffTavTtw",
        "colab": {
          "base_uri": "https://localhost:8080/",
          "height": 469
        },
        "outputId": "c44ddc70-4b45-4d18-8517-4b992dc0b559"
      },
      "execution_count": null,
      "outputs": [
        {
          "output_type": "execute_result",
          "data": {
            "text/plain": [
              "   №П/П              ПЛАН                                           ДЕЙСТВИЯ  \\\n",
              "0   NaN               NaN                                                NaN   \n",
              "1   NaN    1. Неделя 1-2:                                                NaN   \n",
              "2   1.0  Словарный запас:             Изучение 15-20 новых слов каждый день.   \n",
              "3   2.0      Грамматика:   Проработка основных тем (настоящее, прошедшее,...   \n",
              "4   3.0          Чтение:          Чтение простых текстов (уровень Beginner).   \n",
              "\n",
              "              ВРЕМЯ                    1                    2  \\\n",
              "0               NaN  2024-06-24 00:00:00  2024-06-25 00:00:00   \n",
              "1               NaN                  NaN                  NaN   \n",
              "2    30 минут утром                  NaN                  NaN   \n",
              "3    30 минут утром                  NaN                  NaN   \n",
              "4  30 минут вечером                  NaN                  NaN   \n",
              "\n",
              "                     3                    4                    5  \\\n",
              "0  2024-06-26 00:00:00  2024-06-27 00:00:00  2024-06-28 00:00:00   \n",
              "1                  NaN                  NaN                  NaN   \n",
              "2                  NaN                  NaN                  NaN   \n",
              "3                  NaN                  NaN                  NaN   \n",
              "4                  NaN                  NaN                  NaN   \n",
              "\n",
              "                     6                    7                    8  \\\n",
              "0  2024-06-29 00:00:00  2024-06-30 00:00:00  2024-07-01 00:00:00   \n",
              "1                  NaN                  NaN                  NaN   \n",
              "2                  NaN                  NaN                  NaN   \n",
              "3                  NaN                  NaN                  NaN   \n",
              "4                  NaN                  NaN                  NaN   \n",
              "\n",
              "                     9                   10                   11  \\\n",
              "0  2024-07-02 00:00:00  2024-07-03 00:00:00  2024-07-04 00:00:00   \n",
              "1                  NaN                  NaN                  NaN   \n",
              "2                  NaN                  NaN                  NaN   \n",
              "3                  NaN                  NaN                  NaN   \n",
              "4                  NaN                  NaN                  NaN   \n",
              "\n",
              "                    12                   13                   14  \n",
              "0  2024-07-05 00:00:00  2024-07-06 00:00:00  2024-07-07 00:00:00  \n",
              "1                  NaN                  NaN                  NaN  \n",
              "2                  NaN                  NaN                  NaN  \n",
              "3                  NaN                  NaN                  NaN  \n",
              "4                  NaN                  NaN                  NaN  "
            ],
            "text/html": [
              "\n",
              "  <div id=\"df-4f214eae-b01c-4099-a639-afc8cbfa4cf8\" class=\"colab-df-container\">\n",
              "    <div>\n",
              "<style scoped>\n",
              "    .dataframe tbody tr th:only-of-type {\n",
              "        vertical-align: middle;\n",
              "    }\n",
              "\n",
              "    .dataframe tbody tr th {\n",
              "        vertical-align: top;\n",
              "    }\n",
              "\n",
              "    .dataframe thead th {\n",
              "        text-align: right;\n",
              "    }\n",
              "</style>\n",
              "<table border=\"1\" class=\"dataframe\">\n",
              "  <thead>\n",
              "    <tr style=\"text-align: right;\">\n",
              "      <th></th>\n",
              "      <th>№П/П</th>\n",
              "      <th>ПЛАН</th>\n",
              "      <th>ДЕЙСТВИЯ</th>\n",
              "      <th>ВРЕМЯ</th>\n",
              "      <th>1</th>\n",
              "      <th>2</th>\n",
              "      <th>3</th>\n",
              "      <th>4</th>\n",
              "      <th>5</th>\n",
              "      <th>6</th>\n",
              "      <th>7</th>\n",
              "      <th>8</th>\n",
              "      <th>9</th>\n",
              "      <th>10</th>\n",
              "      <th>11</th>\n",
              "      <th>12</th>\n",
              "      <th>13</th>\n",
              "      <th>14</th>\n",
              "    </tr>\n",
              "  </thead>\n",
              "  <tbody>\n",
              "    <tr>\n",
              "      <th>0</th>\n",
              "      <td>NaN</td>\n",
              "      <td>NaN</td>\n",
              "      <td>NaN</td>\n",
              "      <td>NaN</td>\n",
              "      <td>2024-06-24 00:00:00</td>\n",
              "      <td>2024-06-25 00:00:00</td>\n",
              "      <td>2024-06-26 00:00:00</td>\n",
              "      <td>2024-06-27 00:00:00</td>\n",
              "      <td>2024-06-28 00:00:00</td>\n",
              "      <td>2024-06-29 00:00:00</td>\n",
              "      <td>2024-06-30 00:00:00</td>\n",
              "      <td>2024-07-01 00:00:00</td>\n",
              "      <td>2024-07-02 00:00:00</td>\n",
              "      <td>2024-07-03 00:00:00</td>\n",
              "      <td>2024-07-04 00:00:00</td>\n",
              "      <td>2024-07-05 00:00:00</td>\n",
              "      <td>2024-07-06 00:00:00</td>\n",
              "      <td>2024-07-07 00:00:00</td>\n",
              "    </tr>\n",
              "    <tr>\n",
              "      <th>1</th>\n",
              "      <td>NaN</td>\n",
              "      <td>1. Неделя 1-2:</td>\n",
              "      <td>NaN</td>\n",
              "      <td>NaN</td>\n",
              "      <td>NaN</td>\n",
              "      <td>NaN</td>\n",
              "      <td>NaN</td>\n",
              "      <td>NaN</td>\n",
              "      <td>NaN</td>\n",
              "      <td>NaN</td>\n",
              "      <td>NaN</td>\n",
              "      <td>NaN</td>\n",
              "      <td>NaN</td>\n",
              "      <td>NaN</td>\n",
              "      <td>NaN</td>\n",
              "      <td>NaN</td>\n",
              "      <td>NaN</td>\n",
              "      <td>NaN</td>\n",
              "    </tr>\n",
              "    <tr>\n",
              "      <th>2</th>\n",
              "      <td>1.0</td>\n",
              "      <td>Словарный запас:</td>\n",
              "      <td>Изучение 15-20 новых слов каждый день.</td>\n",
              "      <td>30 минут утром</td>\n",
              "      <td>NaN</td>\n",
              "      <td>NaN</td>\n",
              "      <td>NaN</td>\n",
              "      <td>NaN</td>\n",
              "      <td>NaN</td>\n",
              "      <td>NaN</td>\n",
              "      <td>NaN</td>\n",
              "      <td>NaN</td>\n",
              "      <td>NaN</td>\n",
              "      <td>NaN</td>\n",
              "      <td>NaN</td>\n",
              "      <td>NaN</td>\n",
              "      <td>NaN</td>\n",
              "      <td>NaN</td>\n",
              "    </tr>\n",
              "    <tr>\n",
              "      <th>3</th>\n",
              "      <td>2.0</td>\n",
              "      <td>Грамматика:</td>\n",
              "      <td>Проработка основных тем (настоящее, прошедшее,...</td>\n",
              "      <td>30 минут утром</td>\n",
              "      <td>NaN</td>\n",
              "      <td>NaN</td>\n",
              "      <td>NaN</td>\n",
              "      <td>NaN</td>\n",
              "      <td>NaN</td>\n",
              "      <td>NaN</td>\n",
              "      <td>NaN</td>\n",
              "      <td>NaN</td>\n",
              "      <td>NaN</td>\n",
              "      <td>NaN</td>\n",
              "      <td>NaN</td>\n",
              "      <td>NaN</td>\n",
              "      <td>NaN</td>\n",
              "      <td>NaN</td>\n",
              "    </tr>\n",
              "    <tr>\n",
              "      <th>4</th>\n",
              "      <td>3.0</td>\n",
              "      <td>Чтение:</td>\n",
              "      <td>Чтение простых текстов (уровень Beginner).</td>\n",
              "      <td>30 минут вечером</td>\n",
              "      <td>NaN</td>\n",
              "      <td>NaN</td>\n",
              "      <td>NaN</td>\n",
              "      <td>NaN</td>\n",
              "      <td>NaN</td>\n",
              "      <td>NaN</td>\n",
              "      <td>NaN</td>\n",
              "      <td>NaN</td>\n",
              "      <td>NaN</td>\n",
              "      <td>NaN</td>\n",
              "      <td>NaN</td>\n",
              "      <td>NaN</td>\n",
              "      <td>NaN</td>\n",
              "      <td>NaN</td>\n",
              "    </tr>\n",
              "  </tbody>\n",
              "</table>\n",
              "</div>\n",
              "    <div class=\"colab-df-buttons\">\n",
              "\n",
              "  <div class=\"colab-df-container\">\n",
              "    <button class=\"colab-df-convert\" onclick=\"convertToInteractive('df-4f214eae-b01c-4099-a639-afc8cbfa4cf8')\"\n",
              "            title=\"Convert this dataframe to an interactive table.\"\n",
              "            style=\"display:none;\">\n",
              "\n",
              "  <svg xmlns=\"http://www.w3.org/2000/svg\" height=\"24px\" viewBox=\"0 -960 960 960\">\n",
              "    <path d=\"M120-120v-720h720v720H120Zm60-500h600v-160H180v160Zm220 220h160v-160H400v160Zm0 220h160v-160H400v160ZM180-400h160v-160H180v160Zm440 0h160v-160H620v160ZM180-180h160v-160H180v160Zm440 0h160v-160H620v160Z\"/>\n",
              "  </svg>\n",
              "    </button>\n",
              "\n",
              "  <style>\n",
              "    .colab-df-container {\n",
              "      display:flex;\n",
              "      gap: 12px;\n",
              "    }\n",
              "\n",
              "    .colab-df-convert {\n",
              "      background-color: #E8F0FE;\n",
              "      border: none;\n",
              "      border-radius: 50%;\n",
              "      cursor: pointer;\n",
              "      display: none;\n",
              "      fill: #1967D2;\n",
              "      height: 32px;\n",
              "      padding: 0 0 0 0;\n",
              "      width: 32px;\n",
              "    }\n",
              "\n",
              "    .colab-df-convert:hover {\n",
              "      background-color: #E2EBFA;\n",
              "      box-shadow: 0px 1px 2px rgba(60, 64, 67, 0.3), 0px 1px 3px 1px rgba(60, 64, 67, 0.15);\n",
              "      fill: #174EA6;\n",
              "    }\n",
              "\n",
              "    .colab-df-buttons div {\n",
              "      margin-bottom: 4px;\n",
              "    }\n",
              "\n",
              "    [theme=dark] .colab-df-convert {\n",
              "      background-color: #3B4455;\n",
              "      fill: #D2E3FC;\n",
              "    }\n",
              "\n",
              "    [theme=dark] .colab-df-convert:hover {\n",
              "      background-color: #434B5C;\n",
              "      box-shadow: 0px 1px 3px 1px rgba(0, 0, 0, 0.15);\n",
              "      filter: drop-shadow(0px 1px 2px rgba(0, 0, 0, 0.3));\n",
              "      fill: #FFFFFF;\n",
              "    }\n",
              "  </style>\n",
              "\n",
              "    <script>\n",
              "      const buttonEl =\n",
              "        document.querySelector('#df-4f214eae-b01c-4099-a639-afc8cbfa4cf8 button.colab-df-convert');\n",
              "      buttonEl.style.display =\n",
              "        google.colab.kernel.accessAllowed ? 'block' : 'none';\n",
              "\n",
              "      async function convertToInteractive(key) {\n",
              "        const element = document.querySelector('#df-4f214eae-b01c-4099-a639-afc8cbfa4cf8');\n",
              "        const dataTable =\n",
              "          await google.colab.kernel.invokeFunction('convertToInteractive',\n",
              "                                                    [key], {});\n",
              "        if (!dataTable) return;\n",
              "\n",
              "        const docLinkHtml = 'Like what you see? Visit the ' +\n",
              "          '<a target=\"_blank\" href=https://colab.research.google.com/notebooks/data_table.ipynb>data table notebook</a>'\n",
              "          + ' to learn more about interactive tables.';\n",
              "        element.innerHTML = '';\n",
              "        dataTable['output_type'] = 'display_data';\n",
              "        await google.colab.output.renderOutput(dataTable, element);\n",
              "        const docLink = document.createElement('div');\n",
              "        docLink.innerHTML = docLinkHtml;\n",
              "        element.appendChild(docLink);\n",
              "      }\n",
              "    </script>\n",
              "  </div>\n",
              "\n",
              "\n",
              "<div id=\"df-61c9fdae-0829-4c7c-b31f-a71eb2632180\">\n",
              "  <button class=\"colab-df-quickchart\" onclick=\"quickchart('df-61c9fdae-0829-4c7c-b31f-a71eb2632180')\"\n",
              "            title=\"Suggest charts\"\n",
              "            style=\"display:none;\">\n",
              "\n",
              "<svg xmlns=\"http://www.w3.org/2000/svg\" height=\"24px\"viewBox=\"0 0 24 24\"\n",
              "     width=\"24px\">\n",
              "    <g>\n",
              "        <path d=\"M19 3H5c-1.1 0-2 .9-2 2v14c0 1.1.9 2 2 2h14c1.1 0 2-.9 2-2V5c0-1.1-.9-2-2-2zM9 17H7v-7h2v7zm4 0h-2V7h2v10zm4 0h-2v-4h2v4z\"/>\n",
              "    </g>\n",
              "</svg>\n",
              "  </button>\n",
              "\n",
              "<style>\n",
              "  .colab-df-quickchart {\n",
              "      --bg-color: #E8F0FE;\n",
              "      --fill-color: #1967D2;\n",
              "      --hover-bg-color: #E2EBFA;\n",
              "      --hover-fill-color: #174EA6;\n",
              "      --disabled-fill-color: #AAA;\n",
              "      --disabled-bg-color: #DDD;\n",
              "  }\n",
              "\n",
              "  [theme=dark] .colab-df-quickchart {\n",
              "      --bg-color: #3B4455;\n",
              "      --fill-color: #D2E3FC;\n",
              "      --hover-bg-color: #434B5C;\n",
              "      --hover-fill-color: #FFFFFF;\n",
              "      --disabled-bg-color: #3B4455;\n",
              "      --disabled-fill-color: #666;\n",
              "  }\n",
              "\n",
              "  .colab-df-quickchart {\n",
              "    background-color: var(--bg-color);\n",
              "    border: none;\n",
              "    border-radius: 50%;\n",
              "    cursor: pointer;\n",
              "    display: none;\n",
              "    fill: var(--fill-color);\n",
              "    height: 32px;\n",
              "    padding: 0;\n",
              "    width: 32px;\n",
              "  }\n",
              "\n",
              "  .colab-df-quickchart:hover {\n",
              "    background-color: var(--hover-bg-color);\n",
              "    box-shadow: 0 1px 2px rgba(60, 64, 67, 0.3), 0 1px 3px 1px rgba(60, 64, 67, 0.15);\n",
              "    fill: var(--button-hover-fill-color);\n",
              "  }\n",
              "\n",
              "  .colab-df-quickchart-complete:disabled,\n",
              "  .colab-df-quickchart-complete:disabled:hover {\n",
              "    background-color: var(--disabled-bg-color);\n",
              "    fill: var(--disabled-fill-color);\n",
              "    box-shadow: none;\n",
              "  }\n",
              "\n",
              "  .colab-df-spinner {\n",
              "    border: 2px solid var(--fill-color);\n",
              "    border-color: transparent;\n",
              "    border-bottom-color: var(--fill-color);\n",
              "    animation:\n",
              "      spin 1s steps(1) infinite;\n",
              "  }\n",
              "\n",
              "  @keyframes spin {\n",
              "    0% {\n",
              "      border-color: transparent;\n",
              "      border-bottom-color: var(--fill-color);\n",
              "      border-left-color: var(--fill-color);\n",
              "    }\n",
              "    20% {\n",
              "      border-color: transparent;\n",
              "      border-left-color: var(--fill-color);\n",
              "      border-top-color: var(--fill-color);\n",
              "    }\n",
              "    30% {\n",
              "      border-color: transparent;\n",
              "      border-left-color: var(--fill-color);\n",
              "      border-top-color: var(--fill-color);\n",
              "      border-right-color: var(--fill-color);\n",
              "    }\n",
              "    40% {\n",
              "      border-color: transparent;\n",
              "      border-right-color: var(--fill-color);\n",
              "      border-top-color: var(--fill-color);\n",
              "    }\n",
              "    60% {\n",
              "      border-color: transparent;\n",
              "      border-right-color: var(--fill-color);\n",
              "    }\n",
              "    80% {\n",
              "      border-color: transparent;\n",
              "      border-right-color: var(--fill-color);\n",
              "      border-bottom-color: var(--fill-color);\n",
              "    }\n",
              "    90% {\n",
              "      border-color: transparent;\n",
              "      border-bottom-color: var(--fill-color);\n",
              "    }\n",
              "  }\n",
              "</style>\n",
              "\n",
              "  <script>\n",
              "    async function quickchart(key) {\n",
              "      const quickchartButtonEl =\n",
              "        document.querySelector('#' + key + ' button');\n",
              "      quickchartButtonEl.disabled = true;  // To prevent multiple clicks.\n",
              "      quickchartButtonEl.classList.add('colab-df-spinner');\n",
              "      try {\n",
              "        const charts = await google.colab.kernel.invokeFunction(\n",
              "            'suggestCharts', [key], {});\n",
              "      } catch (error) {\n",
              "        console.error('Error during call to suggestCharts:', error);\n",
              "      }\n",
              "      quickchartButtonEl.classList.remove('colab-df-spinner');\n",
              "      quickchartButtonEl.classList.add('colab-df-quickchart-complete');\n",
              "    }\n",
              "    (() => {\n",
              "      let quickchartButtonEl =\n",
              "        document.querySelector('#df-61c9fdae-0829-4c7c-b31f-a71eb2632180 button');\n",
              "      quickchartButtonEl.style.display =\n",
              "        google.colab.kernel.accessAllowed ? 'block' : 'none';\n",
              "    })();\n",
              "  </script>\n",
              "</div>\n",
              "\n",
              "    </div>\n",
              "  </div>\n"
            ],
            "application/vnd.google.colaboratory.intrinsic+json": {
              "type": "dataframe",
              "variable_name": "files",
              "summary": "{\n  \"name\": \"files\",\n  \"rows\": 25,\n  \"fields\": [\n    {\n      \"column\": \"\\u2116\\u041f/\\u041f\",\n      \"properties\": {\n        \"dtype\": \"number\",\n        \"std\": 1.7837651700316894,\n        \"min\": 1.0,\n        \"max\": 6.0,\n        \"num_unique_values\": 6,\n        \"samples\": [\n          1.0,\n          2.0,\n          6.0\n        ],\n        \"semantic_type\": \"\",\n        \"description\": \"\"\n      }\n    },\n    {\n      \"column\": \"\\u041f\\u041b\\u0410\\u041d\",\n      \"properties\": {\n        \"dtype\": \"category\",\n        \"num_unique_values\": 11,\n        \"samples\": [\n          \"\\u0413\\u043e\\u0432\\u043e\\u0440\\u0435\\u043d\\u0438\\u0435: \",\n          \"1. \\u041d\\u0435\\u0434\\u0435\\u043b\\u044f 1-2:\",\n          \"\\u0413\\u0440\\u0430\\u043c\\u043c\\u0430\\u0442\\u0438\\u043a\\u0430:\"\n        ],\n        \"semantic_type\": \"\",\n        \"description\": \"\"\n      }\n    },\n    {\n      \"column\": \"\\u0414\\u0415\\u0419\\u0421\\u0422\\u0412\\u0418\\u042f\",\n      \"properties\": {\n        \"dtype\": \"string\",\n        \"num_unique_values\": 18,\n        \"samples\": [\n          \"\\u0418\\u0437\\u0443\\u0447\\u0435\\u043d\\u0438\\u0435 15-20 \\u043d\\u043e\\u0432\\u044b\\u0445 \\u0441\\u043b\\u043e\\u0432 \\u043a\\u0430\\u0436\\u0434\\u044b\\u0439 \\u0434\\u0435\\u043d\\u044c.\",\n          \"\\u041f\\u0440\\u043e\\u0440\\u0430\\u0431\\u043e\\u0442\\u043a\\u0430 \\u043e\\u0441\\u043d\\u043e\\u0432\\u043d\\u044b\\u0445 \\u0442\\u0435\\u043c (\\u043d\\u0430\\u0441\\u0442\\u043e\\u044f\\u0449\\u0435\\u0435, \\u043f\\u0440\\u043e\\u0448\\u0435\\u0434\\u0448\\u0435\\u0435, \\u0431\\u0443\\u0434\\u0443\\u0449\\u0435\\u0435 \\u0432\\u0440\\u0435\\u043c\\u044f).\",\n          \"\\u0427\\u0442\\u0435\\u043d\\u0438\\u0435 \\u0442\\u0435\\u043a\\u0441\\u0442\\u043e\\u0432 \\u0443\\u0440\\u043e\\u0432\\u043d\\u044f Pre-Intermediate.\"\n        ],\n        \"semantic_type\": \"\",\n        \"description\": \"\"\n      }\n    },\n    {\n      \"column\": \"\\u0412\\u0420\\u0415\\u041c\\u042f\",\n      \"properties\": {\n        \"dtype\": \"category\",\n        \"num_unique_values\": 4,\n        \"samples\": [\n          \"30 \\u043c\\u0438\\u043d\\u0443\\u0442 \\u0432\\u0435\\u0447\\u0435\\u0440\\u043e\\u043c\",\n          \"15 \\u043c\\u0438\\u043d\\u0443\\u0442 \\u0432\\u0435\\u0447\\u0435\\u0440\\u043e\\u043c\",\n          \"30 \\u043c\\u0438\\u043d\\u0443\\u0442 \\u0443\\u0442\\u0440\\u043e\\u043c\"\n        ],\n        \"semantic_type\": \"\",\n        \"description\": \"\"\n      }\n    },\n    {\n      \"column\": 1,\n      \"properties\": {\n        \"dtype\": \"category\",\n        \"num_unique_values\": 4,\n        \"samples\": [\n          \"-\",\n          \"2024-07-08 00:00:00\",\n          \"2024-06-24 00:00:00\"\n        ],\n        \"semantic_type\": \"\",\n        \"description\": \"\"\n      }\n    },\n    {\n      \"column\": 2,\n      \"properties\": {\n        \"dtype\": \"date\",\n        \"min\": \"1970-01-01 00:00:00.000000002\",\n        \"max\": \"2024-07-09 00:00:00\",\n        \"num_unique_values\": 3,\n        \"samples\": [\n          \"2024-06-25 00:00:00\",\n          2,\n          \"2024-07-09 00:00:00\"\n        ],\n        \"semantic_type\": \"\",\n        \"description\": \"\"\n      }\n    },\n    {\n      \"column\": 3,\n      \"properties\": {\n        \"dtype\": \"date\",\n        \"min\": \"1970-01-01 00:00:00.000000003\",\n        \"max\": \"2024-07-10 00:00:00\",\n        \"num_unique_values\": 3,\n        \"samples\": [\n          \"2024-06-26 00:00:00\",\n          3,\n          \"2024-07-10 00:00:00\"\n        ],\n        \"semantic_type\": \"\",\n        \"description\": \"\"\n      }\n    },\n    {\n      \"column\": 4,\n      \"properties\": {\n        \"dtype\": \"date\",\n        \"min\": \"1970-01-01 00:00:00.000000004\",\n        \"max\": \"2024-07-11 00:00:00\",\n        \"num_unique_values\": 3,\n        \"samples\": [\n          \"2024-06-27 00:00:00\",\n          4,\n          \"2024-07-11 00:00:00\"\n        ],\n        \"semantic_type\": \"\",\n        \"description\": \"\"\n      }\n    },\n    {\n      \"column\": 5,\n      \"properties\": {\n        \"dtype\": \"date\",\n        \"min\": \"1970-01-01 00:00:00.000000005\",\n        \"max\": \"2024-07-12 00:00:00\",\n        \"num_unique_values\": 3,\n        \"samples\": [\n          \"2024-06-28 00:00:00\",\n          5,\n          \"2024-07-12 00:00:00\"\n        ],\n        \"semantic_type\": \"\",\n        \"description\": \"\"\n      }\n    },\n    {\n      \"column\": 6,\n      \"properties\": {\n        \"dtype\": \"date\",\n        \"min\": \"1970-01-01 00:00:00.000000006\",\n        \"max\": \"2024-07-13 00:00:00\",\n        \"num_unique_values\": 3,\n        \"samples\": [\n          \"2024-06-29 00:00:00\",\n          6,\n          \"2024-07-13 00:00:00\"\n        ],\n        \"semantic_type\": \"\",\n        \"description\": \"\"\n      }\n    },\n    {\n      \"column\": 7,\n      \"properties\": {\n        \"dtype\": \"date\",\n        \"min\": \"1970-01-01 00:00:00.000000007\",\n        \"max\": \"2024-07-14 00:00:00\",\n        \"num_unique_values\": 3,\n        \"samples\": [\n          \"2024-06-30 00:00:00\",\n          7,\n          \"2024-07-14 00:00:00\"\n        ],\n        \"semantic_type\": \"\",\n        \"description\": \"\"\n      }\n    },\n    {\n      \"column\": 8,\n      \"properties\": {\n        \"dtype\": \"date\",\n        \"min\": \"1970-01-01 00:00:00.000000008\",\n        \"max\": \"2024-07-15 00:00:00\",\n        \"num_unique_values\": 3,\n        \"samples\": [\n          \"2024-07-01 00:00:00\",\n          8,\n          \"2024-07-15 00:00:00\"\n        ],\n        \"semantic_type\": \"\",\n        \"description\": \"\"\n      }\n    },\n    {\n      \"column\": 9,\n      \"properties\": {\n        \"dtype\": \"date\",\n        \"min\": \"1970-01-01 00:00:00.000000009\",\n        \"max\": \"2024-07-16 00:00:00\",\n        \"num_unique_values\": 3,\n        \"samples\": [\n          \"2024-07-02 00:00:00\",\n          9,\n          \"2024-07-16 00:00:00\"\n        ],\n        \"semantic_type\": \"\",\n        \"description\": \"\"\n      }\n    },\n    {\n      \"column\": 10,\n      \"properties\": {\n        \"dtype\": \"date\",\n        \"min\": \"1970-01-01 00:00:00.000000010\",\n        \"max\": \"2024-07-17 00:00:00\",\n        \"num_unique_values\": 3,\n        \"samples\": [\n          \"2024-07-03 00:00:00\",\n          10,\n          \"2024-07-17 00:00:00\"\n        ],\n        \"semantic_type\": \"\",\n        \"description\": \"\"\n      }\n    },\n    {\n      \"column\": 11,\n      \"properties\": {\n        \"dtype\": \"date\",\n        \"min\": \"1970-01-01 00:00:00.000000011\",\n        \"max\": \"2024-07-18 00:00:00\",\n        \"num_unique_values\": 3,\n        \"samples\": [\n          \"2024-07-04 00:00:00\",\n          11,\n          \"2024-07-18 00:00:00\"\n        ],\n        \"semantic_type\": \"\",\n        \"description\": \"\"\n      }\n    },\n    {\n      \"column\": 12,\n      \"properties\": {\n        \"dtype\": \"date\",\n        \"min\": \"1970-01-01 00:00:00.000000012\",\n        \"max\": \"2024-07-19 00:00:00\",\n        \"num_unique_values\": 3,\n        \"samples\": [\n          \"2024-07-05 00:00:00\",\n          12,\n          \"2024-07-19 00:00:00\"\n        ],\n        \"semantic_type\": \"\",\n        \"description\": \"\"\n      }\n    },\n    {\n      \"column\": 13,\n      \"properties\": {\n        \"dtype\": \"date\",\n        \"min\": \"1970-01-01 00:00:00.000000013\",\n        \"max\": \"2024-07-20 00:00:00\",\n        \"num_unique_values\": 3,\n        \"samples\": [\n          \"2024-07-06 00:00:00\",\n          13,\n          \"2024-07-20 00:00:00\"\n        ],\n        \"semantic_type\": \"\",\n        \"description\": \"\"\n      }\n    },\n    {\n      \"column\": 14,\n      \"properties\": {\n        \"dtype\": \"date\",\n        \"min\": \"1970-01-01 00:00:00.000000014\",\n        \"max\": \"2024-07-21 00:00:00\",\n        \"num_unique_values\": 3,\n        \"samples\": [\n          \"2024-07-07 00:00:00\",\n          14,\n          \"2024-07-21 00:00:00\"\n        ],\n        \"semantic_type\": \"\",\n        \"description\": \"\"\n      }\n    }\n  ]\n}"
            }
          },
          "metadata": {},
          "execution_count": 3
        }
      ]
    },
    {
      "cell_type": "code",
      "source": [],
      "metadata": {
        "id": "yzagU0Iw5leX"
      },
      "execution_count": null,
      "outputs": []
    }
  ]
}